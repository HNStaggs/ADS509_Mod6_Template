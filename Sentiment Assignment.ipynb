{
 "cells": [
  {
   "cell_type": "markdown",
   "id": "7f79baf9",
   "metadata": {},
   "source": [
    "# ADS 509 Sentiment Assignment"
   ]
  },
  {
   "cell_type": "code",
   "execution_count": 1,
   "id": "e2d096b7",
   "metadata": {},
   "outputs": [],
   "source": [
    "import os\n",
    "import re\n",
    "import emoji\n",
    "import pandas as pd\n",
    "import numpy as np\n",
    "\n",
    "from collections import Counter, defaultdict\n",
    "from string import punctuation\n",
    "\n",
    "from nltk.corpus import stopwords\n",
    "from nltk.tokenize import word_tokenize\n",
    "#nltk.download('punkt')\n",
    "import string\n",
    "import matplotlib.pyplot as plt\n",
    "import seaborn as sns\n",
    "\n",
    "sw = stopwords.words(\"english\")"
   ]
  },
  {
   "cell_type": "code",
   "execution_count": 25,
   "id": "923b5a86",
   "metadata": {},
   "outputs": [],
   "source": [
    "# Location of data on machine\n",
    "data_location = r\"C:\\Users\\Halee\\Downloads\\M1AssignmentData\"\n",
    "\n",
    "# Define subfolders\n",
    "twitter_folder = os.path.join(data_location, \"M1Results\", \"twitter\")\n",
    "lyrics_folder = os.path.join(data_location, \"M1Results\", \"lyrics\")\n",
    "\n",
    "\n",
    "positive_words_file = pd.read_csv(\"positive-words.txt\", skiprows=34, header = None, names = ['word']) \n",
    "negative_words_file = pd.read_csv(\"negative-words.txt\", skiprows=34, header = None, names = ['word'])\n",
    "tidy_text_file = pd.read_csv(\"tidytext_sentiments.txt\", delimiter = '\\t')"
   ]
  },
  {
   "cell_type": "markdown",
   "id": "9d3bf93e",
   "metadata": {},
   "source": [
    "## Data Input"
   ]
  },
  {
   "cell_type": "code",
   "execution_count": 5,
   "id": "37d70801",
   "metadata": {},
   "outputs": [
    {
     "data": {
      "text/html": [
       "<div>\n",
       "<style scoped>\n",
       "    .dataframe tbody tr th:only-of-type {\n",
       "        vertical-align: middle;\n",
       "    }\n",
       "\n",
       "    .dataframe tbody tr th {\n",
       "        vertical-align: top;\n",
       "    }\n",
       "\n",
       "    .dataframe thead th {\n",
       "        text-align: right;\n",
       "    }\n",
       "</style>\n",
       "<table border=\"1\" class=\"dataframe\">\n",
       "  <thead>\n",
       "    <tr style=\"text-align: right;\">\n",
       "      <th></th>\n",
       "      <th>artist</th>\n",
       "      <th>songname</th>\n",
       "      <th>lyrics</th>\n",
       "    </tr>\n",
       "  </thead>\n",
       "  <tbody>\n",
       "    <tr>\n",
       "      <th>0</th>\n",
       "      <td>cher</td>\n",
       "      <td>\"88 Degrees\"</td>\n",
       "      <td>Stuck in L.A., ain't got no friends \\nAnd so H...</td>\n",
       "    </tr>\n",
       "    <tr>\n",
       "      <th>1</th>\n",
       "      <td>cher</td>\n",
       "      <td>\"A Different Kind Of Love Song\"</td>\n",
       "      <td>What if the world was crazy and I was sane\\nWo...</td>\n",
       "    </tr>\n",
       "    <tr>\n",
       "      <th>2</th>\n",
       "      <td>cher</td>\n",
       "      <td>\"After All\"</td>\n",
       "      <td>Well, here we are again\\nI guess it must be fa...</td>\n",
       "    </tr>\n",
       "    <tr>\n",
       "      <th>3</th>\n",
       "      <td>cher</td>\n",
       "      <td>\"Again\"</td>\n",
       "      <td>Again evening finds me at your door \\nHere to ...</td>\n",
       "    </tr>\n",
       "    <tr>\n",
       "      <th>4</th>\n",
       "      <td>cher</td>\n",
       "      <td>\"Alfie\"</td>\n",
       "      <td>What's it all about, Alfie?\\nIs it just for th...</td>\n",
       "    </tr>\n",
       "    <tr>\n",
       "      <th>...</th>\n",
       "      <td>...</td>\n",
       "      <td>...</td>\n",
       "      <td>...</td>\n",
       "    </tr>\n",
       "    <tr>\n",
       "      <th>415</th>\n",
       "      <td>robyn</td>\n",
       "      <td>\"We Dance To The Beat\"</td>\n",
       "      <td>We dance to the beat\\nWe dance to the beat\\nWe...</td>\n",
       "    </tr>\n",
       "    <tr>\n",
       "      <th>416</th>\n",
       "      <td>robyn</td>\n",
       "      <td>\"Where Did Our Love Go\"</td>\n",
       "      <td>Thoughts about you and me \\nThinkin' about wha...</td>\n",
       "    </tr>\n",
       "    <tr>\n",
       "      <th>417</th>\n",
       "      <td>robyn</td>\n",
       "      <td>\"Who's That Girl\"</td>\n",
       "      <td>Good girls are pretty like all the time\\nI'm j...</td>\n",
       "    </tr>\n",
       "    <tr>\n",
       "      <th>418</th>\n",
       "      <td>robyn</td>\n",
       "      <td>\"With Every Heartbeat\"</td>\n",
       "      <td>Maybe we could make it all right\\nWe could mak...</td>\n",
       "    </tr>\n",
       "    <tr>\n",
       "      <th>419</th>\n",
       "      <td>robyn</td>\n",
       "      <td>\"You've Got That Something\"</td>\n",
       "      <td>Look at me here I am\\nI'm givin all of my lovi...</td>\n",
       "    </tr>\n",
       "  </tbody>\n",
       "</table>\n",
       "<p>420 rows × 3 columns</p>\n",
       "</div>"
      ],
      "text/plain": [
       "    artist                         songname  \\\n",
       "0     cher                     \"88 Degrees\"   \n",
       "1     cher  \"A Different Kind Of Love Song\"   \n",
       "2     cher                      \"After All\"   \n",
       "3     cher                          \"Again\"   \n",
       "4     cher                          \"Alfie\"   \n",
       "..     ...                              ...   \n",
       "415  robyn           \"We Dance To The Beat\"   \n",
       "416  robyn          \"Where Did Our Love Go\"   \n",
       "417  robyn                \"Who's That Girl\"   \n",
       "418  robyn           \"With Every Heartbeat\"   \n",
       "419  robyn      \"You've Got That Something\"   \n",
       "\n",
       "                                                lyrics  \n",
       "0    Stuck in L.A., ain't got no friends \\nAnd so H...  \n",
       "1    What if the world was crazy and I was sane\\nWo...  \n",
       "2    Well, here we are again\\nI guess it must be fa...  \n",
       "3    Again evening finds me at your door \\nHere to ...  \n",
       "4    What's it all about, Alfie?\\nIs it just for th...  \n",
       "..                                                 ...  \n",
       "415  We dance to the beat\\nWe dance to the beat\\nWe...  \n",
       "416  Thoughts about you and me \\nThinkin' about wha...  \n",
       "417  Good girls are pretty like all the time\\nI'm j...  \n",
       "418  Maybe we could make it all right\\nWe could mak...  \n",
       "419  Look at me here I am\\nI'm givin all of my lovi...  \n",
       "\n",
       "[420 rows x 3 columns]"
      ]
     },
     "execution_count": 5,
     "metadata": {},
     "output_type": "execute_result"
    }
   ],
   "source": [
    "# Read in the lyrics data\n",
    "# CODE ASSISTED BY CHATGPT4O\n",
    "# Create function to combine lyrics data into one dataframe\n",
    "def combine_lyrics_to_dataframe(directory):\n",
    "    data = []  # Create empty list to append data to\n",
    "\n",
    "    # Iterate through all files in the directory\n",
    "    for root, _, files in os.walk(directory):\n",
    "        for file in files:\n",
    "            if file.endswith(\".txt\"):  # Specify to find text files with lyric data\n",
    "                try:\n",
    "                    # Get the artist name from the parent folder\n",
    "                    artist = os.path.basename(root)\n",
    "\n",
    "                    # Read the content of the file\n",
    "                    file_path = os.path.join(root, file)\n",
    "                    with open(file_path, 'r', encoding='utf-8') as f:\n",
    "                        lines = f.readlines()\n",
    "\n",
    "                    # Get the song name from the first line of the file\n",
    "                    songname = lines[0].strip()\n",
    "\n",
    "                    # Combine the rest of the lines into lyrics\n",
    "                    lyrics = ''.join(lines[1:]).strip()\n",
    "\n",
    "                    # Append the data to the list\n",
    "                    data.append([artist, songname, lyrics])\n",
    "\n",
    "                except Exception as e:\n",
    "                    print(f\"Error processing file {file}: {e}\")  # Add bug readout\n",
    "\n",
    "    # Create the DataFrame\n",
    "    if data:\n",
    "        df = pd.DataFrame(data, columns=['artist', 'songname', 'lyrics'])\n",
    "    else:\n",
    "        df = pd.DataFrame(columns=['artist', 'songname', 'lyrics'])\n",
    "\n",
    "    return df\n",
    "\n",
    "# Compile lyrics by applying function to specified file path of lyric data\n",
    "lyrics_df = combine_lyrics_to_dataframe(lyrics_folder)\n",
    "lyrics_df  # Confirm both artists were added"
   ]
  },
  {
   "cell_type": "code",
   "execution_count": 6,
   "id": "debcac5a",
   "metadata": {},
   "outputs": [
    {
     "data": {
      "text/html": [
       "<div>\n",
       "<style scoped>\n",
       "    .dataframe tbody tr th:only-of-type {\n",
       "        vertical-align: middle;\n",
       "    }\n",
       "\n",
       "    .dataframe tbody tr th {\n",
       "        vertical-align: top;\n",
       "    }\n",
       "\n",
       "    .dataframe thead th {\n",
       "        text-align: right;\n",
       "    }\n",
       "</style>\n",
       "<table border=\"1\" class=\"dataframe\">\n",
       "  <thead>\n",
       "    <tr style=\"text-align: right;\">\n",
       "      <th></th>\n",
       "      <th>artist</th>\n",
       "      <th>description</th>\n",
       "    </tr>\n",
       "  </thead>\n",
       "  <tbody>\n",
       "    <tr>\n",
       "      <th>0</th>\n",
       "      <td>cher</td>\n",
       "      <td>NaN</td>\n",
       "    </tr>\n",
       "    <tr>\n",
       "      <th>1</th>\n",
       "      <td>cher</td>\n",
       "      <td>𝙿𝚛𝚘𝚞𝚍 𝚜𝚞𝚙𝚙𝚘𝚛𝚝𝚎𝚛 𝚘𝚏 𝚖𝚎𝚜𝚜𝚢 𝚋𝚞𝚗𝚜 &amp; 𝚕𝚎𝚐𝚐𝚒𝚗𝚐𝚜</td>\n",
       "    </tr>\n",
       "    <tr>\n",
       "      <th>2</th>\n",
       "      <td>cher</td>\n",
       "      <td>163㎝／愛かっぷ💜26歳🍒 工〇好きな女の子💓 フォローしてくれたらDMします🧡</td>\n",
       "    </tr>\n",
       "    <tr>\n",
       "      <th>3</th>\n",
       "      <td>cher</td>\n",
       "      <td>csu</td>\n",
       "    </tr>\n",
       "    <tr>\n",
       "      <th>4</th>\n",
       "      <td>cher</td>\n",
       "      <td>Writer @Washinformer @SpelmanCollege alumna #D...</td>\n",
       "    </tr>\n",
       "    <tr>\n",
       "      <th>...</th>\n",
       "      <td>...</td>\n",
       "      <td>...</td>\n",
       "    </tr>\n",
       "    <tr>\n",
       "      <th>4268136</th>\n",
       "      <td>robynkonichiwa</td>\n",
       "      <td>singer of songs, type 1 diabetic, tired $jakel...</td>\n",
       "    </tr>\n",
       "    <tr>\n",
       "      <th>4268137</th>\n",
       "      <td>robynkonichiwa</td>\n",
       "      <td>Dadx2/ Con-Arch/ Photographer/ DK #stemgrønnes...</td>\n",
       "    </tr>\n",
       "    <tr>\n",
       "      <th>4268138</th>\n",
       "      <td>robynkonichiwa</td>\n",
       "      <td>A year to change a life is still a year ✨😌</td>\n",
       "    </tr>\n",
       "    <tr>\n",
       "      <th>4268139</th>\n",
       "      <td>robynkonichiwa</td>\n",
       "      <td>Head of Consumer - Mango. Made in Melbourne. R...</td>\n",
       "    </tr>\n",
       "    <tr>\n",
       "      <th>4268140</th>\n",
       "      <td>robynkonichiwa</td>\n",
       "      <td>Stand for what is right, even if you stand alone.</td>\n",
       "    </tr>\n",
       "  </tbody>\n",
       "</table>\n",
       "<p>4268141 rows × 2 columns</p>\n",
       "</div>"
      ],
      "text/plain": [
       "                 artist                                        description\n",
       "0                  cher                                                NaN\n",
       "1                  cher           𝙿𝚛𝚘𝚞𝚍 𝚜𝚞𝚙𝚙𝚘𝚛𝚝𝚎𝚛 𝚘𝚏 𝚖𝚎𝚜𝚜𝚢 𝚋𝚞𝚗𝚜 & 𝚕𝚎𝚐𝚐𝚒𝚗𝚐𝚜\n",
       "2                  cher          163㎝／愛かっぷ💜26歳🍒 工〇好きな女の子💓 フォローしてくれたらDMします🧡\n",
       "3                  cher                                                csu\n",
       "4                  cher  Writer @Washinformer @SpelmanCollege alumna #D...\n",
       "...                 ...                                                ...\n",
       "4268136  robynkonichiwa  singer of songs, type 1 diabetic, tired $jakel...\n",
       "4268137  robynkonichiwa  Dadx2/ Con-Arch/ Photographer/ DK #stemgrønnes...\n",
       "4268138  robynkonichiwa         A year to change a life is still a year ✨😌\n",
       "4268139  robynkonichiwa  Head of Consumer - Mango. Made in Melbourne. R...\n",
       "4268140  robynkonichiwa  Stand for what is right, even if you stand alone.\n",
       "\n",
       "[4268141 rows x 2 columns]"
      ]
     },
     "execution_count": 6,
     "metadata": {},
     "output_type": "execute_result"
    }
   ],
   "source": [
    "# Read in the twitter data\n",
    "# CODE ASSISTED BY CHATGPT4O\n",
    "# Creat function to read in Twitter data\n",
    "def combine_twitter_to_dataframe(directory):\n",
    "    data = []\n",
    "\n",
    "    # Iterate through all files in the directory\n",
    "    for root, _, files in os.walk(directory):\n",
    "        for file in files:\n",
    "            if \"_data\" in file and file.endswith(\".txt\"):  # Confirm files are text files that contain follower data\n",
    "                try:\n",
    "                    # Read the content of the file as tab-delimited, skipping bad lines\n",
    "                    file_path = os.path.join(root, file)\n",
    "                    \n",
    "                    # Read in files as tab-delimited dataframe\n",
    "                    # Skip lines that have missing data or abnormal structure\n",
    "                    df_temp = pd.read_csv(file_path, delimiter='\\t', on_bad_lines = 'skip')\n",
    "\n",
    "                    # Extract the artist name from the file name since its the first keyword \n",
    "                    artist = file.split('_')[0]\n",
    "\n",
    "                    # Check if 'description' column exists in the df_temp\n",
    "                    if 'description' in df_temp.columns:\n",
    "                        # Append the artist name and the description column to the data list\n",
    "                        for description in df_temp['description']:\n",
    "                            data.append([artist, description])\n",
    "                    else:\n",
    "                        print(f\"Column 'description' not found in file {file}\")\n",
    "\n",
    "                except Exception as e:\n",
    "                    print(f\"Error processing file {file}: {e}\")\n",
    "\n",
    "    # Create the final DataFrame\n",
    "    if data:\n",
    "        df = pd.DataFrame(data, columns=['artist', 'description'])\n",
    "    else:\n",
    "        df = pd.DataFrame(columns=['artist', 'description'])\n",
    "\n",
    "    return df\n",
    "\n",
    "# Compile twitter by applying function to specified file path of twitter data\n",
    "twitter_df = combine_twitter_to_dataframe(twitter_folder)\n",
    "twitter_df  # Confirm both artists were added along with descriptions"
   ]
  },
  {
   "cell_type": "markdown",
   "id": "718d9469-adac-423c-82e2-b1d7d7cb7d06",
   "metadata": {},
   "source": [
    "# Cleaning the text data"
   ]
  },
  {
   "cell_type": "code",
   "execution_count": 40,
   "id": "3021d0ab-151d-48e6-9b70-3dcae999b5be",
   "metadata": {},
   "outputs": [],
   "source": [
    "# CODE ASSISTED BY CHATGPT4O\n",
    "# Function to creat clean data\n",
    "def clean_and_tokenize(text):\n",
    "    # Explicitly remove apostrophes and quotes\n",
    "    additional_punctuation = \"’‘“”\"  \n",
    "\n",
    "    # Replace additional punctuation with empty string\n",
    "    for char in additional_punctuation:\n",
    "        text = text.replace(char, \"\")\n",
    "        \n",
    "    # Remove punctuation\n",
    "    text = text.translate(str.maketrans('', '', string.punctuation))\n",
    "    \n",
    "    # Split on whitespace and fold to lowercase\n",
    "    words = word_tokenize(text.lower())\n",
    "    \n",
    "    # Remove stopwords\n",
    "    words = [word for word in words if word not in sw]\n",
    "    \n",
    "    return words"
   ]
  },
  {
   "cell_type": "code",
   "execution_count": 41,
   "id": "b5b36a30-9931-4c66-a88b-f66b0d11f72b",
   "metadata": {},
   "outputs": [],
   "source": [
    "# Update Twitter data type to string\n",
    "twitter_df['description'] = twitter_df['description'].astype('str')\n",
    "\n",
    "# Update alternative NA descriptions to NA\n",
    "twitter_df['description'] = twitter_df['description'].replace(['nan', 'NaN'], pd.NA)\n",
    "\n",
    "# Fill in any missing values with empty strings\n",
    "twitter_df['description'] = twitter_df['description'].fillna('')"
   ]
  },
  {
   "cell_type": "code",
   "execution_count": 42,
   "id": "a150dd8f-bced-4982-88b8-deff287bca3e",
   "metadata": {},
   "outputs": [],
   "source": [
    "# Apply text cleaning to twitter data\n",
    "twitter_df['clean_text'] = twitter_df['description'].apply(clean_and_tokenize)"
   ]
  },
  {
   "cell_type": "code",
   "execution_count": 43,
   "id": "524012cd-3486-4c3d-a65c-a5f490ec2dac",
   "metadata": {},
   "outputs": [],
   "source": [
    "# Update lyrics data type to string\n",
    "lyrics_df['lyrics'] = lyrics_df['lyrics'].astype('str')\n",
    "\n",
    "# Fill in any missing values with empty strings\n",
    "lyrics_df['lyrics'] = lyrics_df['lyrics'].fillna('')\n",
    "\n",
    "# Apply text cleaning to lyrics data\n",
    "lyrics_df['clean_text'] = lyrics_df['lyrics'].apply(clean_and_tokenize)"
   ]
  },
  {
   "cell_type": "code",
   "execution_count": 59,
   "id": "3744c6cb-0963-4133-85b4-2c7eb6d542ac",
   "metadata": {},
   "outputs": [
    {
     "data": {
      "text/html": [
       "<div>\n",
       "<style scoped>\n",
       "    .dataframe tbody tr th:only-of-type {\n",
       "        vertical-align: middle;\n",
       "    }\n",
       "\n",
       "    .dataframe tbody tr th {\n",
       "        vertical-align: top;\n",
       "    }\n",
       "\n",
       "    .dataframe thead th {\n",
       "        text-align: right;\n",
       "    }\n",
       "</style>\n",
       "<table border=\"1\" class=\"dataframe\">\n",
       "  <thead>\n",
       "    <tr style=\"text-align: right;\">\n",
       "      <th></th>\n",
       "      <th>artist</th>\n",
       "      <th>description</th>\n",
       "      <th>clean_text</th>\n",
       "    </tr>\n",
       "  </thead>\n",
       "  <tbody>\n",
       "    <tr>\n",
       "      <th>0</th>\n",
       "      <td>cher</td>\n",
       "      <td></td>\n",
       "      <td>[]</td>\n",
       "    </tr>\n",
       "    <tr>\n",
       "      <th>1</th>\n",
       "      <td>cher</td>\n",
       "      <td>𝙿𝚛𝚘𝚞𝚍 𝚜𝚞𝚙𝚙𝚘𝚛𝚝𝚎𝚛 𝚘𝚏 𝚖𝚎𝚜𝚜𝚢 𝚋𝚞𝚗𝚜 &amp; 𝚕𝚎𝚐𝚐𝚒𝚗𝚐𝚜</td>\n",
       "      <td>[𝙿𝚛𝚘𝚞𝚍, 𝚜𝚞𝚙𝚙𝚘𝚛𝚝𝚎𝚛, 𝚘𝚏, 𝚖𝚎𝚜𝚜𝚢, 𝚋𝚞𝚗𝚜, 𝚕𝚎𝚐𝚐𝚒𝚗𝚐𝚜]</td>\n",
       "    </tr>\n",
       "    <tr>\n",
       "      <th>2</th>\n",
       "      <td>cher</td>\n",
       "      <td>163㎝／愛かっぷ💜26歳🍒 工〇好きな女の子💓 フォローしてくれたらDMします🧡</td>\n",
       "      <td>[163㎝／愛かっぷ💜26歳🍒, 工〇好きな女の子💓, フォローしてくれたらdmします🧡]</td>\n",
       "    </tr>\n",
       "    <tr>\n",
       "      <th>3</th>\n",
       "      <td>cher</td>\n",
       "      <td>csu</td>\n",
       "      <td>[csu]</td>\n",
       "    </tr>\n",
       "    <tr>\n",
       "      <th>4</th>\n",
       "      <td>cher</td>\n",
       "      <td>Writer @Washinformer @SpelmanCollege alumna #D...</td>\n",
       "      <td>[writer, washinformer, spelmancollege, alumna,...</td>\n",
       "    </tr>\n",
       "  </tbody>\n",
       "</table>\n",
       "</div>"
      ],
      "text/plain": [
       "  artist                                        description  \\\n",
       "0   cher                                                      \n",
       "1   cher           𝙿𝚛𝚘𝚞𝚍 𝚜𝚞𝚙𝚙𝚘𝚛𝚝𝚎𝚛 𝚘𝚏 𝚖𝚎𝚜𝚜𝚢 𝚋𝚞𝚗𝚜 & 𝚕𝚎𝚐𝚐𝚒𝚗𝚐𝚜   \n",
       "2   cher          163㎝／愛かっぷ💜26歳🍒 工〇好きな女の子💓 フォローしてくれたらDMします🧡   \n",
       "3   cher                                                csu   \n",
       "4   cher  Writer @Washinformer @SpelmanCollege alumna #D...   \n",
       "\n",
       "                                          clean_text  \n",
       "0                                                 []  \n",
       "1      [𝙿𝚛𝚘𝚞𝚍, 𝚜𝚞𝚙𝚙𝚘𝚛𝚝𝚎𝚛, 𝚘𝚏, 𝚖𝚎𝚜𝚜𝚢, 𝚋𝚞𝚗𝚜, 𝚕𝚎𝚐𝚐𝚒𝚗𝚐𝚜]  \n",
       "2      [163㎝／愛かっぷ💜26歳🍒, 工〇好きな女の子💓, フォローしてくれたらdmします🧡]  \n",
       "3                                              [csu]  \n",
       "4  [writer, washinformer, spelmancollege, alumna,...  "
      ]
     },
     "execution_count": 59,
     "metadata": {},
     "output_type": "execute_result"
    }
   ],
   "source": [
    "twitter_df.head()"
   ]
  },
  {
   "cell_type": "code",
   "execution_count": 60,
   "id": "6d51f2bb-17a0-4909-b0d7-f6a7ff56f980",
   "metadata": {},
   "outputs": [
    {
     "data": {
      "text/html": [
       "<div>\n",
       "<style scoped>\n",
       "    .dataframe tbody tr th:only-of-type {\n",
       "        vertical-align: middle;\n",
       "    }\n",
       "\n",
       "    .dataframe tbody tr th {\n",
       "        vertical-align: top;\n",
       "    }\n",
       "\n",
       "    .dataframe thead th {\n",
       "        text-align: right;\n",
       "    }\n",
       "</style>\n",
       "<table border=\"1\" class=\"dataframe\">\n",
       "  <thead>\n",
       "    <tr style=\"text-align: right;\">\n",
       "      <th></th>\n",
       "      <th>artist</th>\n",
       "      <th>songname</th>\n",
       "      <th>lyrics</th>\n",
       "      <th>clean_text</th>\n",
       "      <th>sentiment_score</th>\n",
       "      <th>sentiment_label</th>\n",
       "    </tr>\n",
       "  </thead>\n",
       "  <tbody>\n",
       "    <tr>\n",
       "      <th>0</th>\n",
       "      <td>cher</td>\n",
       "      <td>\"88 Degrees\"</td>\n",
       "      <td>Stuck in L.A., ain't got no friends \\nAnd so H...</td>\n",
       "      <td>[stuck, la, aint, got, friends, hollywood, nut...</td>\n",
       "      <td>0</td>\n",
       "      <td>neutral</td>\n",
       "    </tr>\n",
       "    <tr>\n",
       "      <th>1</th>\n",
       "      <td>cher</td>\n",
       "      <td>\"A Different Kind Of Love Song\"</td>\n",
       "      <td>What if the world was crazy and I was sane\\nWo...</td>\n",
       "      <td>[world, crazy, sane, would, strange, cant, bel...</td>\n",
       "      <td>0</td>\n",
       "      <td>neutral</td>\n",
       "    </tr>\n",
       "    <tr>\n",
       "      <th>2</th>\n",
       "      <td>cher</td>\n",
       "      <td>\"After All\"</td>\n",
       "      <td>Well, here we are again\\nI guess it must be fa...</td>\n",
       "      <td>[well, guess, must, fate, weve, tried, deep, i...</td>\n",
       "      <td>0</td>\n",
       "      <td>neutral</td>\n",
       "    </tr>\n",
       "    <tr>\n",
       "      <th>3</th>\n",
       "      <td>cher</td>\n",
       "      <td>\"Again\"</td>\n",
       "      <td>Again evening finds me at your door \\nHere to ...</td>\n",
       "      <td>[evening, finds, door, ask, could, try, dont, ...</td>\n",
       "      <td>0</td>\n",
       "      <td>neutral</td>\n",
       "    </tr>\n",
       "    <tr>\n",
       "      <th>4</th>\n",
       "      <td>cher</td>\n",
       "      <td>\"Alfie\"</td>\n",
       "      <td>What's it all about, Alfie?\\nIs it just for th...</td>\n",
       "      <td>[whats, alfie, moment, live, whats, sort, alfi...</td>\n",
       "      <td>0</td>\n",
       "      <td>neutral</td>\n",
       "    </tr>\n",
       "  </tbody>\n",
       "</table>\n",
       "</div>"
      ],
      "text/plain": [
       "  artist                         songname  \\\n",
       "0   cher                     \"88 Degrees\"   \n",
       "1   cher  \"A Different Kind Of Love Song\"   \n",
       "2   cher                      \"After All\"   \n",
       "3   cher                          \"Again\"   \n",
       "4   cher                          \"Alfie\"   \n",
       "\n",
       "                                              lyrics  \\\n",
       "0  Stuck in L.A., ain't got no friends \\nAnd so H...   \n",
       "1  What if the world was crazy and I was sane\\nWo...   \n",
       "2  Well, here we are again\\nI guess it must be fa...   \n",
       "3  Again evening finds me at your door \\nHere to ...   \n",
       "4  What's it all about, Alfie?\\nIs it just for th...   \n",
       "\n",
       "                                          clean_text  sentiment_score  \\\n",
       "0  [stuck, la, aint, got, friends, hollywood, nut...                0   \n",
       "1  [world, crazy, sane, would, strange, cant, bel...                0   \n",
       "2  [well, guess, must, fate, weve, tried, deep, i...                0   \n",
       "3  [evening, finds, door, ask, could, try, dont, ...                0   \n",
       "4  [whats, alfie, moment, live, whats, sort, alfi...                0   \n",
       "\n",
       "  sentiment_label  \n",
       "0         neutral  \n",
       "1         neutral  \n",
       "2         neutral  \n",
       "3         neutral  \n",
       "4         neutral  "
      ]
     },
     "execution_count": 60,
     "metadata": {},
     "output_type": "execute_result"
    }
   ],
   "source": [
    "lyrics_df.head()"
   ]
  },
  {
   "cell_type": "markdown",
   "id": "9363a7e8-9fae-4153-a75c-22285d4fed0a",
   "metadata": {},
   "source": [
    "# Combine all word lists into a lexicon dataframe"
   ]
  },
  {
   "cell_type": "code",
   "execution_count": 35,
   "id": "8863812c-e4aa-4c09-8b75-36d6616944cc",
   "metadata": {},
   "outputs": [
    {
     "name": "stdout",
     "output_type": "stream",
     "text": [
      "<class 'pandas.core.frame.DataFrame'>\n",
      "RangeIndex: 2006 entries, 0 to 2005\n",
      "Data columns (total 2 columns):\n",
      " #   Column     Non-Null Count  Dtype \n",
      "---  ------     --------------  ----- \n",
      " 0   word       2006 non-null   object\n",
      " 1   sentiment  2006 non-null   int64 \n",
      "dtypes: int64(1), object(1)\n",
      "memory usage: 31.5+ KB\n"
     ]
    }
   ],
   "source": [
    "positive_words_file['sentiment'] = 1\n",
    "positive_words_file.info()"
   ]
  },
  {
   "cell_type": "code",
   "execution_count": 36,
   "id": "0896a41b-77f6-46ff-bef2-d782c182b017",
   "metadata": {},
   "outputs": [
    {
     "name": "stdout",
     "output_type": "stream",
     "text": [
      "<class 'pandas.core.frame.DataFrame'>\n",
      "RangeIndex: 4783 entries, 0 to 4782\n",
      "Data columns (total 2 columns):\n",
      " #   Column     Non-Null Count  Dtype \n",
      "---  ------     --------------  ----- \n",
      " 0   word       4783 non-null   object\n",
      " 1   sentiment  4783 non-null   int64 \n",
      "dtypes: int64(1), object(1)\n",
      "memory usage: 74.9+ KB\n"
     ]
    }
   ],
   "source": [
    "negative_words_file['sentiment'] = -1\n",
    "negative_words_file.info()"
   ]
  },
  {
   "cell_type": "code",
   "execution_count": 85,
   "id": "f5ae78f0-ca79-4d65-99c2-3d56a600d7b2",
   "metadata": {},
   "outputs": [
    {
     "data": {
      "text/html": [
       "<div>\n",
       "<style scoped>\n",
       "    .dataframe tbody tr th:only-of-type {\n",
       "        vertical-align: middle;\n",
       "    }\n",
       "\n",
       "    .dataframe tbody tr th {\n",
       "        vertical-align: top;\n",
       "    }\n",
       "\n",
       "    .dataframe thead th {\n",
       "        text-align: right;\n",
       "    }\n",
       "</style>\n",
       "<table border=\"1\" class=\"dataframe\">\n",
       "  <thead>\n",
       "    <tr style=\"text-align: right;\">\n",
       "      <th></th>\n",
       "      <th>word</th>\n",
       "      <th>sentiment</th>\n",
       "    </tr>\n",
       "  </thead>\n",
       "  <tbody>\n",
       "    <tr>\n",
       "      <th>0</th>\n",
       "      <td>2-faced</td>\n",
       "      <td>-1</td>\n",
       "    </tr>\n",
       "    <tr>\n",
       "      <th>1</th>\n",
       "      <td>2-faces</td>\n",
       "      <td>-1</td>\n",
       "    </tr>\n",
       "    <tr>\n",
       "      <th>2</th>\n",
       "      <td>abnormal</td>\n",
       "      <td>-1</td>\n",
       "    </tr>\n",
       "    <tr>\n",
       "      <th>3</th>\n",
       "      <td>abolish</td>\n",
       "      <td>-1</td>\n",
       "    </tr>\n",
       "    <tr>\n",
       "      <th>4</th>\n",
       "      <td>abominable</td>\n",
       "      <td>-1</td>\n",
       "    </tr>\n",
       "    <tr>\n",
       "      <th>...</th>\n",
       "      <td>...</td>\n",
       "      <td>...</td>\n",
       "    </tr>\n",
       "    <tr>\n",
       "      <th>95</th>\n",
       "      <td>ailing</td>\n",
       "      <td>-1</td>\n",
       "    </tr>\n",
       "    <tr>\n",
       "      <th>96</th>\n",
       "      <td>ailment</td>\n",
       "      <td>-1</td>\n",
       "    </tr>\n",
       "    <tr>\n",
       "      <th>97</th>\n",
       "      <td>aimless</td>\n",
       "      <td>-1</td>\n",
       "    </tr>\n",
       "    <tr>\n",
       "      <th>98</th>\n",
       "      <td>alarm</td>\n",
       "      <td>-1</td>\n",
       "    </tr>\n",
       "    <tr>\n",
       "      <th>99</th>\n",
       "      <td>alarmed</td>\n",
       "      <td>-1</td>\n",
       "    </tr>\n",
       "  </tbody>\n",
       "</table>\n",
       "<p>100 rows × 2 columns</p>\n",
       "</div>"
      ],
      "text/plain": [
       "          word  sentiment\n",
       "0      2-faced         -1\n",
       "1      2-faces         -1\n",
       "2     abnormal         -1\n",
       "3      abolish         -1\n",
       "4   abominable         -1\n",
       "..         ...        ...\n",
       "95      ailing         -1\n",
       "96     ailment         -1\n",
       "97     aimless         -1\n",
       "98       alarm         -1\n",
       "99     alarmed         -1\n",
       "\n",
       "[100 rows x 2 columns]"
      ]
     },
     "execution_count": 85,
     "metadata": {},
     "output_type": "execute_result"
    }
   ],
   "source": [
    "negative_words_file.head(100)"
   ]
  },
  {
   "cell_type": "code",
   "execution_count": 38,
   "id": "74d0e8d8-c662-45d9-86f5-18343a0f3dfa",
   "metadata": {},
   "outputs": [
    {
     "name": "stdout",
     "output_type": "stream",
     "text": [
      "<class 'pandas.core.frame.DataFrame'>\n",
      "RangeIndex: 15133 entries, 0 to 15132\n",
      "Data columns (total 2 columns):\n",
      " #   Column     Non-Null Count  Dtype \n",
      "---  ------     --------------  ----- \n",
      " 0   word       15133 non-null  object\n",
      " 1   sentiment  15133 non-null  int64 \n",
      "dtypes: int64(1), object(1)\n",
      "memory usage: 236.6+ KB\n"
     ]
    }
   ],
   "source": [
    "tidy_text_file['sentiment'] = tidy_text_file['sentiment'].apply(lambda x: 1 if x == 'positive' else -1)\n",
    "tidy_text_file = tidy_text_file[['word', 'sentiment']]\n",
    "tidy_text_file.info()"
   ]
  },
  {
   "cell_type": "code",
   "execution_count": 39,
   "id": "0251bb45-dae9-4ad5-9248-8e6868b60e10",
   "metadata": {},
   "outputs": [
    {
     "name": "stdout",
     "output_type": "stream",
     "text": [
      "<class 'pandas.core.frame.DataFrame'>\n",
      "RangeIndex: 21922 entries, 0 to 21921\n",
      "Data columns (total 2 columns):\n",
      " #   Column     Non-Null Count  Dtype \n",
      "---  ------     --------------  ----- \n",
      " 0   word       21922 non-null  object\n",
      " 1   sentiment  21922 non-null  int64 \n",
      "dtypes: int64(1), object(1)\n",
      "memory usage: 342.7+ KB\n"
     ]
    },
    {
     "data": {
      "text/plain": [
       "(        word  sentiment\n",
       " 0         a+          1\n",
       " 1     abound          1\n",
       " 2    abounds          1\n",
       " 3  abundance          1\n",
       " 4   abundant          1,\n",
       " None)"
      ]
     },
     "execution_count": 39,
     "metadata": {},
     "output_type": "execute_result"
    }
   ],
   "source": [
    "word_df = pd.concat([positive_words_file, negative_words_file, tidy_text_file], ignore_index=True)\n",
    "word_df.head(), word_df.info()"
   ]
  },
  {
   "cell_type": "markdown",
   "id": "6a5f3b12",
   "metadata": {},
   "source": [
    "## Sentiment Analysis on Songs"
   ]
  },
  {
   "cell_type": "code",
   "execution_count": 62,
   "id": "664f8d8f",
   "metadata": {},
   "outputs": [],
   "source": [
    "# Define the sentiment scoring function\n",
    "def calculate_sentiment(text, lexicon_df):\n",
    "    # Remove punctuation\n",
    "    text = re.sub(r'[^\\w\\s]', '', text)\n",
    "    # Tokenize the text\n",
    "    words = text.lower().split()\n",
    "    \n",
    "    # Create a dictionary from the lexicon DataFrame\n",
    "    lexicon_dict = dict(zip(lexicon_df['word'], lexicon_df['sentiment']))\n",
    "    \n",
    "    # Calculate the sentiment score\n",
    "    sentiment_score = sum([lexicon_dict.get(word, 0) for word in words])\n",
    "\n",
    "    return sentiment_score"
   ]
  },
  {
   "cell_type": "code",
   "execution_count": 63,
   "id": "3aeea368-f14c-4d2a-b968-0647f3eff170",
   "metadata": {},
   "outputs": [],
   "source": [
    "lyrics_df['sentiment_score'] = lyrics_df['clean_text'].astype(str).apply(lambda x: calculate_sentiment(x, word_df))"
   ]
  },
  {
   "cell_type": "code",
   "execution_count": 64,
   "id": "1164ac66-4368-4b2c-bf12-07ed32aa0845",
   "metadata": {},
   "outputs": [
    {
     "data": {
      "text/plain": [
       "0     -44\n",
       "1     -41\n",
       "2     -15\n",
       "3      -6\n",
       "4     -15\n",
       "       ..\n",
       "415   -98\n",
       "416   -14\n",
       "417   -44\n",
       "418   -20\n",
       "419    -8\n",
       "Name: sentiment_score, Length: 420, dtype: int64"
      ]
     },
     "execution_count": 64,
     "metadata": {},
     "output_type": "execute_result"
    }
   ],
   "source": [
    "lyrics_df['sentiment_score']"
   ]
  },
  {
   "cell_type": "code",
   "execution_count": 65,
   "id": "6bb6eb60-3b8c-4b7a-ae93-c8b065149954",
   "metadata": {},
   "outputs": [
    {
     "data": {
      "text/plain": [
       "-27.962025316455698"
      ]
     },
     "execution_count": 65,
     "metadata": {},
     "output_type": "execute_result"
    }
   ],
   "source": [
    "# Calculate the mean sentiment score for Cher's lyrics\n",
    "cher_sentiment_mean = np.mean(lyrics_df[lyrics_df['artist'] == 'cher']['sentiment_score'])\n",
    "cher_sentiment_mean"
   ]
  },
  {
   "cell_type": "code",
   "execution_count": 67,
   "id": "c8a70232-14f6-49f8-a4ba-851ac4497d4d",
   "metadata": {},
   "outputs": [
    {
     "data": {
      "text/plain": [
       "-39.375"
      ]
     },
     "execution_count": 67,
     "metadata": {},
     "output_type": "execute_result"
    }
   ],
   "source": [
    "# Calculate the mean sentiment score for Robyn's lyrics\n",
    "robyn_sentiment_mean = np.mean(lyrics_df[lyrics_df['artist'] == 'robyn']['sentiment_score'])\n",
    "robyn_sentiment_mean"
   ]
  },
  {
   "cell_type": "markdown",
   "id": "230fb42b-98d2-4fb7-9e55-ff6c2a4df129",
   "metadata": {},
   "source": [
    "## Cher top and bottom 3 scores"
   ]
  },
  {
   "cell_type": "code",
   "execution_count": 89,
   "id": "ca3f3cd1-9843-4ec6-b4d7-864e0e3a6346",
   "metadata": {},
   "outputs": [
    {
     "data": {
      "text/plain": [
       "(Index([16, 198, 69], dtype='int64'), Index([37, 35, 291], dtype='int64'))"
      ]
     },
     "execution_count": 89,
     "metadata": {},
     "output_type": "execute_result"
    }
   ],
   "source": [
    "top_3_lowest_cher = lyrics_df[lyrics_df['artist'] == 'cher']['sentiment_score'].nsmallest(3).index\n",
    "top_3_highest_cher = lyrics_df[lyrics_df['artist'] == 'cher']['sentiment_score'].nlargest(3).index\n",
    "top_3_lowest_cher, top_3_highest_cher"
   ]
  },
  {
   "cell_type": "code",
   "execution_count": 90,
   "id": "edaeecc2-ed0b-4054-b2f8-806b0af12ab4",
   "metadata": {},
   "outputs": [
    {
     "name": "stdout",
     "output_type": "stream",
     "text": [
      "Top 3 Lowest Sentiment Scores Text:\n",
      "['bang', 'bang', 'shot', 'bang', 'bang', 'hit', 'ground', 'bang', 'bang', 'awful', 'sound', 'bang', 'bang', 'baby', 'shot', 'five', 'six', 'rode', 'horses', 'made', 'sticks', 'wore', 'black', 'wore', 'white', 'would', 'always', 'win', 'fight', 'bang', 'bang', 'shot', 'bang', 'bang', 'hit', 'ground', 'bang', 'bang', 'awful', 'sound', 'bang', 'bang', 'baby', 'shot', 'seasons', 'came', 'changed', 'time', 'grew', 'called', 'mine', 'would', 'always', 'laugh', 'say', 'remember', 'used', 'play', 'bang', 'bang', 'shot', 'bang', 'bang', 'hit', 'ground', 'bang', 'bang', 'awful', 'sound', 'bang', 'bang', 'baby', 'shot', 'music', 'played', 'people', 'sang', 'church', 'bells', 'rang', 'echoes', 'gun', 'vowed', 'wed', 'one', 'youre', 'gone', 'dont', 'know', 'sometimes', 'cry', 'didnt', 'say', 'goodbye', 'didnt', 'take', 'time', 'lie', 'bang', 'bang', 'shot', 'bang', 'bang', 'hit', 'ground', 'bang', 'bang', 'awful', 'sound', 'bang', 'bang', 'baby', 'shot', 'bang', 'bang', 'shot', 'right', 'eyes', 'bang', 'bang', 'cant', 'go', 'paralyzed', 'bang', 'bang', 'bang', 'bang', 'bang', 'bang', 'bang', 'bang', 'oh', 'baby', 'im', 'laying', 'ground', 'bang', 'bang', 'ill', 'never', 'come', 'around', 'bang', 'bang', 'bang', 'bang', 'oh', 'baby', 'bang', 'bang', 'oh', 'baby', 'come', 'wrap', 'bang', 'bang', 'see', 'sweet', 'gon', 'na', 'bang', 'bang', 'bang', 'bang', 'bang', 'bang', 'oh', 'baby', 'baby', 'shot', 'bang', 'bang', 'im', 'ground']\n",
      "['hush', 'little', 'baby', 'got', 'ta', 'strong', 'cause', 'world', 'born', 'fight', 'best', 'prove', 'wrong', 'winners', 'work', 'never', 'done', 'reach', 'top', 'number', 'one', 'oh', 'perfection', 'drive', 'crazy', 'perfection', 'ive', 'worn', 'pride', 'protection', 'perfection', 'ohh', 'taught', 'tough', 'best', 'aint', 'enough', 'crack', 'whip', 'sacrifice', 'found', 'paradise', 'price', 'didnt', 'know', 'oh', 'know', 'got', 'ta', 'work', 'hard', 'love', 'make', 'love', 'work', 'know', 'heart', 'mine', 'made', 'big', 'mistakes', 'guess', 'comes', 'love', 'dont', 'know', 'takes', 'life', 'ive', 'driven', 'perfection', 'pushed', 'limit', 'every', 'day', 'night', 'ohh', 'ive', 'driven', 'perfection', 'nothings', 'perfect', 'love', 'aint', 'right', 'nothings', 'perfect', 'love', 'aint', 'right', 'gave', 'played', 'part', 'gave', 'everything', 'heart', 'worked', 'hard', 'made', 'name', 'loneliness', 'inside', 'stays', 'love', 'today', 'gone', 'today', 'got', 'list', 'lovers', 'lookin', 'like', 'resume', 'got', 'ta', 'take', 'time', 'make', 'something', 'real', 'guess', 'comes', 'love', 'dont', 'know', 'feel', 'life', 'ive', 'driven', 'perfection', 'pushed', 'limit', 'every', 'day', 'night', 'ohh', 'ive', 'driven', 'perfection', 'nothings', 'perfect', 'love', 'aint', 'right', 'nothings', 'perfect', 'love', 'aint', 'right', 'oh', 'perfection', 'drive', 'crazy', 'perfection', 'ive', 'worn', 'pride', 'protection', 'im', 'goin', 'crazy', 'perfection', 'ohh', 'didnt', 'know', 'oh', 'know', 'got', 'ta', 'work', 'hard', 'love', 'make', 'love', 'work', 'know', 'heart', 'mine', 'made', 'big', 'mistakes', 'guess', 'comes', 'love', 'dont', 'know', 'takes', 'ive', 'driven', 'perfection', 'pushed', 'limit', 'every', 'day', 'night', 'ohh', 'ive', 'driven', 'perfection', 'nothings', 'perfect', 'love', 'aint', 'right', 'life', 'ive', 'driven', 'perfection', 'pushed', 'limit', 'every', 'day', 'night', 'ohh', 'ive', 'driven', 'perfection', 'nothings', 'perfect', 'love', 'aint', 'right', 'life', 'ive', 'driven', 'perfection', 'pushed', 'limit', 'every', 'day', 'night', 'ohh', 'ive', 'driven', 'perfection', 'nothings', 'perfect', 'love', 'aint', 'right', 'life', 'ive', 'driven', 'perfection']\n",
      "['best', 'jump', 'like', 'feel', 'going', 'nowhere', 'unless', 'falling', 'ready', 'give', 'crawling', 'dont', 'make', 'easy', 'climbing', 'risk', 'aint', 'living', 'youre', 'surviving', 'tell', 'tip', 'toes', 'could', 'dive', 'dont', 'scared', 'hurt', 'take', 'heart', 'back', 'shell', 'love', 'covers', 'landslide', 'love', 'pulls', 'like', 'riptide', 'loves', 'crash', 'trying', 'hang', 'glide', 'loves', 'run', 'theres', 'light', 'love', 'sword', 'youve', 'got', 'defense', 'love', 'rock', 'throw', 'love', 'healing', 'broken', 'heart', 'story', 'behind', 'favorite', 'scars', 'oh', 'favorite', 'scars', 'favorite', 'scars', 'oh', 'favorite', 'scars', 'highwire', 'dont', 'look', 'raging', 'fire', 'love', 'waiting', 'side', 'easy', 'take', 'heart', 'back', 'shelf', 'love', 'covers', 'landslide', 'love', 'pulls', 'like', 'riptide', 'loves', 'crash', 'trying', 'hang', 'glide', 'loves', 'run', 'theres', 'light', 'love', 'sword', 'youve', 'got', 'defense', 'love', 'rock', 'throw', 'love', 'healing', 'broken', 'heart', 'story', 'behind', 'favorite', 'scars', 'oh', 'favorite', 'scars', 'favorite', 'scars', 'oh', 'favorite', 'scars', 'love', 'covers', 'landslide', 'love', 'pulls', 'like', 'riptide', 'loves', 'crash', 'trying', 'hang', 'glide', 'loves', 'run', 'theres', 'light', 'love', 'sword', 'youve', 'got', 'defense', 'love', 'rock', 'throw', 'love', 'healing', 'broken', 'heart', 'story', 'behind', 'favorite', 'scars', 'oh', 'favorite', 'scars', 'favorite', 'scars', 'oh', 'favorite', 'scars']\n",
      "\n",
      "Top 3 Highest Sentiment Scores Text:\n",
      "['igqira', 'lendlela', 'nguqo', 'ngqothwane', 'igqira', 'lendlela', 'nguqo', 'ngqothwane', 'sebeqabele', 'gqi', 'thapha', 'bathi', 'nguqo', 'ngqothwane', 'sebeqabele', 'gqi', 'thapha', 'bathi', 'nguqo', 'ngqothwane']\n",
      "['chiquitita', 'dime', 'por', 'quã©', 'tu', 'dolor', 'hoy', 'te', 'encadena', 'en', 'tus', 'ojos', 'hay', 'una', 'sombra', 'de', 'gran', 'pena', 'quisiera', 'verte', 'asã\\xad', 'aunque', 'quieras', 'disimularlo', 'si', 'es', 'que', 'tan', 'triste', 'estã¡s', 'para', 'quã©', 'quieres', 'callarlo', 'chiquitita', 'dã\\xadmelo', 'tu', 'en', 'mi', 'hombro', 'aquã\\xad', 'llorando', 'cuenta', 'conmigo', 'ya', 'para', 'asã\\xad', 'seguir', 'andando', 'tan', 'segura', 'te', 'conocã\\xad', 'ahora', 'tu', 'ala', 'quebrada', 'dã©jamela', 'arreglar', 'yo', 'la', 'quiero', 'ver', 'curada', 'chiquitita', 'sabes', 'muy', 'bien', 'que', 'las', 'penas', 'vienen', 'van', 'desaparecen', 'otra', 'vez', 'vas', 'bailar', 'serã¡s', 'feliz', 'como', 'flores', 'que', 'florecen', 'chiquitita', 'hay', 'que', 'llorar', 'las', 'estrellas', 'brillan', 'por', 'ti', 'allã¡', 'en', 'lo', 'alto', 'quiero', 'verte', 'sonreã\\xadr', 'para', 'compartir', 'tu', 'alegrã\\xada', 'chiquitita', 'otra', 'vez', 'quiero', 'compartir', 'tu', 'alegrã\\xada', 'chiquitita', 'chiquitita', 'hay', 'que', 'llorar', 'quiero', 'verte', 'sonreã\\xadr', 'para', 'compartir', 'tu', 'alegrã\\xada', 'hey', 'chiquitita', 'chiquitita', 'sabes', 'muy', 'bien', 'que', 'las', 'penas', 'vienen', 'van', 'desaparecen', 'otra', 'vez', 'vas', 'bailar', 'serã¡s', 'feliz', 'como', 'flores', 'que', 'florecen', 'chiquitita', 'hay', 'que', 'llorar', 'las', 'estrellas', 'brillan', 'por', 'ti', 'allã¡', 'en', 'lo', 'alto', 'quiero', 'verte', 'sonreã\\xadr', 'para', 'compartir', 'tu', 'alegrã\\xada', 'chiquitita', 'otra', 'vez', 'quiero', 'compartir', 'tu', 'alegrã\\xada', 'chiquitita', 'otra', 'vez', 'quiero', 'compartir', 'tu', 'alegrã\\xada', 'chiquitita']\n",
      "['whatll', 'far', 'away', 'im', 'blue', 'whatll', 'whatll', 'wondering', 'kissing', 'whatll', 'whatll', 'photograph', 'tell', 'troubles', 'alone', 'dreams', 'wont', 'come', 'true', 'whatll', 'far', 'away', 'blue', 'whatll']\n"
     ]
    }
   ],
   "source": [
    "# Print the text associated with the top 3 lowest sentiment scores\n",
    "print(\"Top 3 Lowest Sentiment Scores Text:\")\n",
    "for index in top_3_lowest_cher:\n",
    "    print(lyrics_df.iloc[index]['clean_text'])\n",
    "\n",
    "# Print the text associated with the top 3 highest sentiment scores\n",
    "print(\"\\nTop 3 Highest Sentiment Scores Text:\")\n",
    "for index in top_3_highest_cher:\n",
    "    print(lyrics_df.iloc[index]['clean_text'])"
   ]
  },
  {
   "cell_type": "markdown",
   "id": "87c9a41b-a315-4d22-9766-f5109be50fac",
   "metadata": {},
   "source": [
    "## Robyn top and botton 3 scores"
   ]
  },
  {
   "cell_type": "code",
   "execution_count": 91,
   "id": "dbacb4b4-e5b8-4431-9713-b3bf43707528",
   "metadata": {},
   "outputs": [
    {
     "data": {
      "text/plain": [
       "(Index([380, 381, 382], dtype='int64'), Index([325, 374, 398], dtype='int64'))"
      ]
     },
     "execution_count": 91,
     "metadata": {},
     "output_type": "execute_result"
    }
   ],
   "source": [
    "top_3_lowest_robyn = lyrics_df[lyrics_df['artist'] == 'robyn']['sentiment_score'].nsmallest(3).index\n",
    "top_3_highest_robyn = lyrics_df[lyrics_df['artist'] == 'robyn']['sentiment_score'].nlargest(3).index\n",
    "top_3_lowest_robyn, top_3_highest_robyn"
   ]
  },
  {
   "cell_type": "code",
   "execution_count": 92,
   "id": "39dda309-e8ee-40d4-a9df-c41c298a504d",
   "metadata": {},
   "outputs": [
    {
     "name": "stdout",
     "output_type": "stream",
     "text": [
      "Top 3 Lowest Sentiment Scores Text:\n",
      "['free', 'love', 'free', 'baby', 'free', 'love', 'free', 'baby', 'boom', 'boom', 'boom', 'boom', 'boom', 'chica', 'boom', 'let', 'give', 'baby', 'chica', 'boom', 'chica', 'boom', 'chica', 'boom', 'chica', 'boom', 'chica', 'boom', 'chica', 'boom', 'free', 'love', 'free', 'baby', 'free', 'love', 'free', 'baby', 'boom', 'boom', 'boom', 'boom', 'boom', 'chica', 'boom', 'let', 'give', 'baby', 'ima', 'give', 'baby', 'ima', 'give', 'im', 'ready', 'lose', 'steady', 'light', 'heavy', 'city', 'sometimes', 'ugly', 'sometimes', 'pretty', 'never', 'know', 'get', 'cause', 'cant', 'control', 'cant', 'unfold', 'slow', 'ima', 'give', 'baby', 'ima', 'give', 'im', 'ready', 'lose', 'steady', 'light', 'heavy', 'city', 'sometimes', 'ugly', 'sometimes', 'pretty', 'never', 'know', 'get', 'cause', 'cant', 'control', 'cant', 'unfold', 'slow', 'free', 'love', 'free', 'baby', 'free', 'love', 'free', 'baby', 'boom', 'boom', 'boom', 'boom', 'boom', 'chica', 'boom', 'let', 'give', 'baby', 'yeah', 'yeah', 'yeah', 'yeah', 'love', 'free', 'baby', 'love', 'free', 'baby', 'ima', 'give', 'baby', 'ima', 'give', 'like', 'motha', 'safe', 'like', 'rubber', 'mutter', 'like', 'stutter', 'city', 'sometimes', 'nitty', 'sometimes', 'gritty', 'know', 'ima', 'give', 'better', 'ima', 'give', 'love', 'forever', 'cant', 'control', 'slow', 'ima', 'give', 'baby', 'ima', 'give', 'like', 'motha', 'safe', 'like', 'rubber', 'mutter', 'like', 'stutter', 'city', 'sometimes', 'nitty', 'sometimes', 'gritty', 'know', 'ima', 'give', 'better', 'ima', 'give', 'love', 'forever', 'cant', 'control', 'slow', 'free', 'love', 'free', 'baby', 'free', 'love', 'free', 'baby', 'boom', 'boom', 'boom', 'boom', 'boom', 'chica', 'boom', 'let', 'give', 'baby', 'boom', 'boom', 'boom', 'boom', 'boom', 'chica', 'boom', 'chica', 'boom', 'chica', 'boom', 'boom', 'boom', 'boom', 'boom', 'boom', 'chica', 'boom', 'chica', 'boom', 'chica', 'boom', 'free', 'love', 'free', 'baby', 'free', 'love', 'free', 'baby', 'aprã©ndelo', 'aprã©ndelo', 'te', 'lo', 'digo', 'right', 'sã³lo', 'entiã©ndelo', 'aprã©ndelo', 'aprã©ndelo', 'te', 'lo', 'digo', 'right', 'sã³lo', 'entiã©ndelo', 'slow', 'aprã©ndelo', 'aprã©ndelo', 'te', 'lo', 'digo', 'right', 'sã³lo', 'entiã©ndelo', 'aprã©ndelo', 'aprã©ndelo', 'te', 'lo', 'digo', 'right', 'sã³lo', 'entiã©ndelo', 'slow', 'ima', 'give', 'baby', 'ima', 'give', 'im', 'ready', 'lose', 'steady', 'light', 'heavy', 'city', 'sometimes', 'ugly', 'sometimes', 'pretty', 'never', 'know', 'get', 'cause', 'cant', 'control', 'cant', 'unfold', 'slow', 'slow', 'x6', 'free', 'love', 'free', 'baby', 'love', 'free', 'baby', 'free', 'x4', 'know', 'love', 'free', 'free', 'free', 'â\\x80\\x93', 'love', 'free', 'baby', 'x8', 'free']\n",
      "['youre', 'looking', 'love', 'get', 'heart', 'made', 'steel', 'cus', 'know', 'love', 'kills', 'dont', 'go', 'messing', 'love', 'itll', 'hurt', 'real', 'dont', 'know', 'love', 'kills', 'youre', 'looking', 'love', 'get', 'heart', 'made', 'steel', 'cus', 'know', 'love', 'kills', 'dont', 'go', 'messing', 'love', 'itll', 'hurt', 'real', 'dont', 'know', 'love', 'kills', 'protect', 'cus', 'youll', 'wreck', 'cold', 'hard', 'world', 'check', 'conceal', 'dreams', 'shield', 'til', 'one', 'kind', 'soul', 'reveals', 'protect', 'cus', 'youll', 'wreck', 'cold', 'hard', 'world', 'check', 'conceal', 'dreams', 'shield', 'til', 'one', 'kind', 'soul', 'reveals', 'youre', 'looking', 'love', 'get', 'heart', 'made', 'steel', 'cus', 'know', 'love', 'kills', 'dont', 'go', 'messing', 'love', 'itll', 'hurt', 'real', 'dont', 'know', 'love', 'kills', 'youre', 'looking', 'love', 'get', 'heart', 'made', 'steel', 'cus', 'know', 'love', 'kills', 'dont', 'go', 'messing', 'love', 'itll', 'hurt', 'real', 'dont', 'know', 'love', 'kills', 'mm', 'know', 'youre', 'deep', 'still', 'think', 'sometimes', 'stockholm', 'syndrome', 'misery', 'theres', 'penalty', 'love', 'crimes', 'protect', 'cus', 'youll', 'wreck', 'cold', 'hard', 'world', 'check', 'conceal', 'dreams', 'shield', 'til', 'one', 'kind', 'soul', 'reveals', 'protect', 'cus', 'youll', 'wreck', 'cold', 'hard', 'world', 'check', 'conceal', 'dreams', 'shield', 'til', 'one', 'kind', 'soul', 'reveals', 'protect', 'check', 'mm', 'know', 'youre', 'deep', 'think', 'sometimes', 'stockholm', 'syndrome', 'misery', 'theres', 'penalty', 'love', 'crimes', 'protect', 'cus', 'youll', 'wreck', 'cold', 'hard', 'world', 'cus', 'know', 'love', 'kills', 'conceal', 'dreams', 'shield', 'cold', 'hard', 'world', 'dont', 'know', 'love', 'kills', 'protect', 'cus', 'youll', 'wreck', 'cold', 'hard', 'world', 'cus', 'know', 'love', 'kills', 'conceal', 'dreams', 'shield', 'cold', 'hard', 'world', 'dont', 'know', 'love', 'kills', 'protect', 'cus', 'youll', 'wreck', 'cold', 'hard', 'world', 'cus', 'know', 'love', 'kills', 'conceal', 'dreams', 'shield', 'cold', 'hard', 'world', 'dont', 'know', 'love', 'kills']\n",
      "['youre', 'looking', 'love', 'get', 'heart', 'made', 'steel', 'cus', 'know', 'love', 'kills', 'dont', 'go', 'messing', 'love', 'itll', 'hurt', 'real', 'dont', 'know', 'love', 'kills', 'youre', 'looking', 'love', 'get', 'heart', 'made', 'steel', 'cus', 'know', 'love', 'kills', 'dont', 'go', 'messing', 'love', 'itll', 'hurt', 'real', 'dont', 'know', 'love', 'kills', 'protect', 'cus', 'youll', 'wreck', 'cold', 'hard', 'world', 'check', 'conceal', 'dreams', 'shield', 'til', 'one', 'kind', 'soul', 'reveals', 'protect', 'cus', 'youll', 'wreck', 'cold', 'hard', 'world', 'check', 'conceal', 'dreams', 'shield', 'til', 'one', 'kind', 'soul', 'reveals', 'youre', 'looking', 'love', 'get', 'heart', 'made', 'steel', 'cus', 'know', 'love', 'kills', 'dont', 'go', 'messing', 'love', 'itll', 'hurt', 'real', 'dont', 'know', 'love', 'kills', 'youre', 'looking', 'love', 'get', 'heart', 'made', 'steel', 'cus', 'know', 'love', 'kills', 'dont', 'go', 'messing', 'love', 'itll', 'hurt', 'real', 'dont', 'know', 'love', 'kills', 'mm', 'know', 'youre', 'deep', 'still', 'think', 'sometimes', 'stockholm', 'syndrome', 'misery', 'theres', 'penalty', 'love', 'crimes', 'protect', 'cus', 'youll', 'wreck', 'cold', 'hard', 'world', 'check', 'conceal', 'dreams', 'shield', 'til', 'one', 'kind', 'soul', 'reveals', 'protect', 'cus', 'youll', 'wreck', 'cold', 'hard', 'world', 'check', 'conceal', 'dreams', 'shield', 'til', 'one', 'kind', 'soul', 'reveals', 'protect', 'check', 'mm', 'know', 'youre', 'deep', 'still', 'think', 'sometimes', 'stockholm', 'syndrome', 'misery', 'theres', 'penalty', 'love', 'crimes', 'protect', 'cus', 'youll', 'wreck', 'cold', 'hard', 'world', 'cus', 'know', 'love', 'kills', 'conceal', 'dreams', 'shield', 'cold', 'hard', 'world', 'dont', 'know', 'love', 'kills', 'protect', 'cus', 'youll', 'wreck', 'cold', 'hard', 'world', 'cus', 'know', 'love', 'kills', 'conceal', 'dreams', 'shield', 'cold', 'hard', 'world', 'dont', 'know', 'love', 'kills', 'protect', 'cus', 'youll', 'wreck', 'cold', 'hard', 'world', 'cus', 'know', 'love', 'kills', 'conceal', 'dreams', 'shield', 'cold', 'hard', 'world', 'dont', 'know', 'love', 'kills']\n",
      "\n",
      "Top 3 Highest Sentiment Scores Text:\n",
      "['good', 'evening', 'ladies', 'captain', 'speaking', 'attempt', 'crashlanding', 'going']\n",
      "['jag', 'vet', 'en', 'dejlig', 'rosa', 'och', 'vit', 'som', 'liljeblad', 'nã¤r', 'jag', 'pã¥', 'henne', 'tã¤nker', 'sã¥', 'gã¶rs', 'mitt', 'hjã¤rta', 'glad', 'dess', 'stã¤mma', 'ger', 'en', 'hjã¤rtans', 'trã¶st', 'lik', 'nã¤ktergalens', 'blida', 'rã¶st', 'sã¥', 'fager', 'och', 'sã¥', 'ljuv', 'som', 'solen', 'fagert', 'skiner', 'ã¤r', 'hon', 'som', 'purpur', 'klar', 'gud', 'lã¥t', 'dig', 'aldrig', 'sã¶rja', 'men', 'alltid', 'vara', 'glad', 'mã¥', 'de', 'fã¥', 'komma', 'samman', 'med', 'hjã¤rtans', 'frã¶jd', 'och', 'gamman', 'som', 'lã¤ngta', 'till', 'varann', 'var', 'dag', 'gã¥r', 'solen', 'neder', 'och', 'dagelig', 'uppgã¥r', 'nã¤r', 'kommer', 'dagen', 'blider', 'att', 'jag', 'dig', 'skã¥da', 'fã¥r', 'hã¥gen', 'ã¤r', 'du', 'jã¤mt', 'mig', 'nã¤r', 'farvã¤l', 'farvã¤l', 'min', 'hjã¤rtans', 'kã¤r', 'mã¥ngtusende', 'godnatt']\n",
      "['say', 'say', 'say', 'say', 'say', 'say', 'say', 'say', 'want', 'say', 'want', 'want', 'want', 'want', 'woman', 'woman', 'woman', 'bitches', 'want', 'want', 'want', 'want', 'want', 'want', 'want', 'want', 'want', 'want', 'want', 'want', 'want', 'want', 'want', 'wait', 'stop', 'almost', 'ready', 'ready', 'pleasure', 'machine', 'fuck', 'mechanic', 'want', 'want', 'want', 'want', 'want', 'want', 'want', 'want', 'quiet']\n"
     ]
    }
   ],
   "source": [
    "# Print the text associated with the top 3 lowest sentiment scores\n",
    "print(\"Top 3 Lowest Sentiment Scores Text:\")\n",
    "for index in top_3_lowest_robyn:\n",
    "    print(lyrics_df.iloc[index]['clean_text'])\n",
    "\n",
    "# Print the text associated with the top 3 highest sentiment scores\n",
    "print(\"\\nTop 3 Highest Sentiment Scores Text:\")\n",
    "for index in top_3_highest_robyn:\n",
    "    print(lyrics_df.iloc[index]['clean_text'])"
   ]
  },
  {
   "cell_type": "markdown",
   "id": "1f8334f4",
   "metadata": {},
   "source": [
    "### Questions\n",
    "\n",
    "Q: Overall, which artist has the higher average sentiment per song? \n",
    "\n",
    "A: Cher had the higher average sentiment score, but both artists trend towards negative sentiment overall with no scores being overall positive.\n",
    "\n",
    "---\n",
    "\n",
    "Q: For your first artist, what are the three songs that have the highest and lowest sentiments? Print the lyrics of those songs to the screen. What do you think is driving the sentiment score? \n",
    "\n",
    "A: Cher's three most negative songs have a lot of repetition of negative sentiment words. The first song says \"bang\" a lot, the second worst song has a lot of words about themes of struggle and fighting for perfection, and the third worse has words like scar, defense, and crash. For the three least negative songs, two of them are in spanish so the scoring is not going to be accurate, and the third one has kissing, dream, and true.\n",
    "\n",
    "---\n",
    "\n",
    "Q: For your second artist, what are the three songs that have the highest and lowest sentiments? Print the lyrics of those songs to the screen. What do you think is driving the sentiment score? \n",
    "\n",
    "A: Robyn's most negative songs use words like \"boom,\" \"kills,\" and \"cold.\" Robyn's least negative songs contain non-english words, and the words \"want,\" \"ready,\" and \"good.\"\n",
    "\n",
    "---\n",
    "\n",
    "Q: Plot the distributions of the sentiment scores for both artists. You can use `seaborn` to plot densities or plot histograms in matplotlib.\n"
   ]
  },
  {
   "cell_type": "code",
   "execution_count": 93,
   "id": "fc24b131-fd0e-4e6a-92e3-15da2cd71e54",
   "metadata": {},
   "outputs": [
    {
     "data": {
      "text/plain": [
       "Text(0.5, 0, 'Sentiment Score')"
      ]
     },
     "execution_count": 93,
     "metadata": {},
     "output_type": "execute_result"
    },
    {
     "data": {
      "image/png": "[encoded data removed]",
      "text/plain": [
       "<Figure size 640x480 with 1 Axes>"
      ]
     },
     "metadata": {},
     "output_type": "display_data"
    }
   ],
   "source": [
    "plt.hist(lyrics_df[lyrics_df['artist'] == 'cher']['sentiment_score'])\n",
    "plt.title(\"Distribution of Cher's Lyric Sentiment Scores\")\n",
    "plt.ylabel('Frequency')\n",
    "plt.xlabel('Sentiment Score')"
   ]
  },
  {
   "cell_type": "code",
   "execution_count": 94,
   "id": "c7fb634f-4209-4bd1-94f4-9b151123ddc3",
   "metadata": {},
   "outputs": [
    {
     "data": {
      "text/plain": [
       "Text(0.5, 0, 'Sentiment Score')"
      ]
     },
     "execution_count": 94,
     "metadata": {},
     "output_type": "execute_result"
    },
    {
     "data": {
      "image/png": "[encoded data removed]",
      "text/plain": [
       "<Figure size 640x480 with 1 Axes>"
      ]
     },
     "metadata": {},
     "output_type": "display_data"
    }
   ],
   "source": [
    "plt.hist(lyrics_df[lyrics_df['artist'] == 'robyn']['sentiment_score'])\n",
    "plt.title(\"Distribution of Robyn's Lyric Sentiment Scores\")\n",
    "plt.ylabel('Frequency')\n",
    "plt.xlabel('Sentiment Score')"
   ]
  },
  {
   "cell_type": "markdown",
   "id": "b3fe644d",
   "metadata": {},
   "source": [
    "## Sentiment Analysis on Twitter Descriptions"
   ]
  },
  {
   "cell_type": "code",
   "execution_count": 95,
   "id": "1a5c1d25",
   "metadata": {},
   "outputs": [],
   "source": [
    "# Emoji list\n",
    "positive_emojis = ['😀', '😃', '😄', '😁', '😊', '😇', '🙂', '🙌', '👍', '❤️'] \n",
    "negative_emojis = ['😞', '😟', '😠', '😡', '😢', '😭', '😩', '👎', '💔', '😤']\n"
   ]
  },
  {
   "cell_type": "code",
   "execution_count": 103,
   "id": "4b67de69-6fe8-434b-abc0-aa5aa475bfc3",
   "metadata": {},
   "outputs": [],
   "source": [
    "# Extract emojis and hashtags from clean text of descriptions\n",
    "twitter_df['emojis'] = twitter_df['clean_text'].apply(lambda x: [char for char in x if char in positive_emojis + negative_emojis])"
   ]
  },
  {
   "cell_type": "code",
   "execution_count": 106,
   "id": "b3deafa2-f3b9-4d3a-a73e-ca6c105a878b",
   "metadata": {},
   "outputs": [],
   "source": [
    "def calculate_emoji_sentiment(emojis, positive_emojis, negative_emojis):\n",
    "    total_score = 0\n",
    "    for emoji in emojis:\n",
    "        if emoji in positive_emojis:\n",
    "            total_score += 1\n",
    "        elif emoji in negative_emojis:\n",
    "            total_score -= 1\n",
    "    return total_score\n",
    "\n",
    "def get_average_sentiment(df, artist, positive_emojis, negative_emojis):\n",
    "    artist_df = df[df['artist'] == artist]\n",
    "    total_score = 0\n",
    "    for emojis in artist_df['emojis']:\n",
    "        total_score += calculate_emoji_sentiment(emojis, positive_emojis, negative_emojis)\n",
    "    average_sentiment = total_score / len(artist_df)\n",
    "    return average_sentiment\n",
    "\n",
    "# Calculate average sentiment for each artist\n",
    "average_sentiment_cher = get_average_sentiment(twitter_df, 'cher', positive_emojis, negative_emojis)\n",
    "average_sentiment_robyn = get_average_sentiment(twitter_df, 'robynkonichiwa', positive_emojis, negative_emojis)"
   ]
  },
  {
   "cell_type": "code",
   "execution_count": 108,
   "id": "e3781d35-665e-4981-9e79-2eb8632b8eb8",
   "metadata": {},
   "outputs": [
    {
     "data": {
      "text/plain": [
       "(0.004944205017896985, 0.0035300236756016247)"
      ]
     },
     "execution_count": 108,
     "metadata": {},
     "output_type": "execute_result"
    }
   ],
   "source": [
    "average_sentiment_cher, average_sentiment_robyn"
   ]
  },
  {
   "cell_type": "code",
   "execution_count": 109,
   "id": "5c0298a1-2d07-429f-b6b5-19cf9ae6bada",
   "metadata": {},
   "outputs": [
    {
     "name": "stdout",
     "output_type": "stream",
     "text": [
      "Most Popular Positive Emoji for Cher: ❤️\n",
      "Most Popular Negative Emoji for Cher: 💔\n",
      "Most Popular Positive Emoji for Robyn: ❤️\n",
      "Most Popular Negative Emoji for Robyn: 💔\n"
     ]
    }
   ],
   "source": [
    "def most_popular_emojis(df, artist, positive_emojis, negative_emojis):\n",
    "    artist_df = df[df['artist'] == artist]\n",
    "    emoji_counter = Counter([emoji for sublist in artist_df['emojis'] for emoji in sublist])\n",
    "    \n",
    "    # Find the most common positive and negative emojis\n",
    "    most_common_positive = None\n",
    "    most_common_negative = None\n",
    "    max_positive_count = 0\n",
    "    max_negative_count = 0\n",
    "    \n",
    "    for emoji, count in emoji_counter.items():\n",
    "        if emoji in positive_emojis and count > max_positive_count:\n",
    "            most_common_positive = emoji\n",
    "            max_positive_count = count\n",
    "        if emoji in negative_emojis and count > max_negative_count:\n",
    "            most_common_negative = emoji\n",
    "            max_negative_count = count\n",
    "            \n",
    "    return most_common_positive, most_common_negative\n",
    "\n",
    "# Find the most popular emojis for each artist\n",
    "most_popular_positive_cher, most_popular_negative_cher = most_popular_emojis(twitter_df, 'cher', positive_emojis, negative_emojis)\n",
    "most_popular_positive_robyn, most_popular_negative_robyn = most_popular_emojis(twitter_df, 'robynkonichiwa', positive_emojis, negative_emojis)\n",
    "\n",
    "# Display the results\n",
    "print(f\"Most Popular Positive Emoji for Cher: {most_popular_positive_cher}\")\n",
    "print(f\"Most Popular Negative Emoji for Cher: {most_popular_negative_cher}\")\n",
    "print(f\"Most Popular Positive Emoji for Robyn: {most_popular_positive_robyn}\")\n",
    "print(f\"Most Popular Negative Emoji for Robyn: {most_popular_negative_robyn}\")"
   ]
  },
  {
   "cell_type": "markdown",
   "id": "fb92eb93",
   "metadata": {},
   "source": [
    "Q: What is the average sentiment of your two artists? \n",
    "\n",
    "A: Cher's average sentiment is 0.00494 which is bascially neutral. Robyn's average sentiment is 0.00353 which is basically neutral. \n",
    "\n",
    "---\n",
    "\n",
    "Q: Which positive emoji is the most popular for each artist? Which negative emoji? \n",
    "\n",
    "A: Cher and robyn both have the same most popular emojis, which is the regular heart and a broken heart. \n",
    "\n"
   ]
  },
  {
   "cell_type": "code",
   "execution_count": null,
   "id": "0e530292-7885-460e-82fa-d748ba46439d",
   "metadata": {},
   "outputs": [],
   "source": []
  }
 ],
 "metadata": {
  "kernelspec": {
   "display_name": "Python 3 (ipykernel)",
   "language": "python",
   "name": "python3"
  },
  "language_info": {
   "codemirror_mode": {
    "name": "ipython",
    "version": 3
   },
   "file_extension": ".py",
   "mimetype": "text/x-python",
   "name": "python",
   "nbconvert_exporter": "python",
   "pygments_lexer": "ipython3",
   "version": "3.9.18"
  }
 },
 "nbformat": 4,
 "nbformat_minor": 5
}
